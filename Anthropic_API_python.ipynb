{
  "nbformat": 4,
  "nbformat_minor": 0,
  "metadata": {
    "colab": {
      "provenance": [],
      "authorship_tag": "ABX9TyOQZvEPI+H3JsH67hYedr/Z",
      "include_colab_link": true
    },
    "kernelspec": {
      "name": "python3",
      "display_name": "Python 3"
    },
    "language_info": {
      "name": "python"
    }
  },
  "cells": [
    {
      "cell_type": "markdown",
      "metadata": {
        "id": "view-in-github",
        "colab_type": "text"
      },
      "source": [
        "<a href=\"https://colab.research.google.com/github/alarcon7a/Anthtopic-API/blob/main/Anthropic_API_python.ipynb\" target=\"_parent\"><img src=\"https://colab.research.google.com/assets/colab-badge.svg\" alt=\"Open In Colab\"/></a>"
      ]
    },
    {
      "cell_type": "markdown",
      "source": [
        "# Anthropic (Claude 3) API"
      ],
      "metadata": {
        "id": "TJxIAeNNSdXY"
      }
    },
    {
      "cell_type": "markdown",
      "source": [
        "Instalar librerias"
      ],
      "metadata": {
        "id": "C0Yf-PrfSaDH"
      }
    },
    {
      "cell_type": "code",
      "source": [
        "!pip install anthropic"
      ],
      "metadata": {
        "colab": {
          "base_uri": "https://localhost:8080/"
        },
        "id": "E0VWxF6ySKwf",
        "outputId": "075240cd-bb3c-47e6-b43a-542d69886af4"
      },
      "execution_count": null,
      "outputs": [
        {
          "output_type": "stream",
          "name": "stdout",
          "text": [
            "Collecting anthropic\n",
            "  Downloading anthropic-0.21.3-py3-none-any.whl (851 kB)\n",
            "\u001b[?25l     \u001b[90m━━━━━━━━━━━━━━━━━━━━━━━━━━━━━━━━━━━━━━━━\u001b[0m \u001b[32m0.0/851.6 kB\u001b[0m \u001b[31m?\u001b[0m eta \u001b[36m-:--:--\u001b[0m\r\u001b[2K     \u001b[91m━━━━━━━━━━━━━━━━\u001b[0m\u001b[91m╸\u001b[0m\u001b[90m━━━━━━━━━━━━━━━━━━━━━━━\u001b[0m \u001b[32m358.4/851.6 kB\u001b[0m \u001b[31m10.5 MB/s\u001b[0m eta \u001b[36m0:00:01\u001b[0m\r\u001b[2K     \u001b[90m━━━━━━━━━━━━━━━━━━━━━━━━━━━━━━━━━━━━━━━━\u001b[0m \u001b[32m851.6/851.6 kB\u001b[0m \u001b[31m16.7 MB/s\u001b[0m eta \u001b[36m0:00:00\u001b[0m\n",
            "\u001b[?25hRequirement already satisfied: anyio<5,>=3.5.0 in /usr/local/lib/python3.10/dist-packages (from anthropic) (3.7.1)\n",
            "Requirement already satisfied: distro<2,>=1.7.0 in /usr/lib/python3/dist-packages (from anthropic) (1.7.0)\n",
            "Collecting httpx<1,>=0.23.0 (from anthropic)\n",
            "  Downloading httpx-0.27.0-py3-none-any.whl (75 kB)\n",
            "\u001b[?25l     \u001b[90m━━━━━━━━━━━━━━━━━━━━━━━━━━━━━━━━━━━━━━━━\u001b[0m \u001b[32m0.0/75.6 kB\u001b[0m \u001b[31m?\u001b[0m eta \u001b[36m-:--:--\u001b[0m\r\u001b[2K     \u001b[90m━━━━━━━━━━━━━━━━━━━━━━━━━━━━━━━━━━━━━━━━\u001b[0m \u001b[32m75.6/75.6 kB\u001b[0m \u001b[31m8.3 MB/s\u001b[0m eta \u001b[36m0:00:00\u001b[0m\n",
            "\u001b[?25hRequirement already satisfied: pydantic<3,>=1.9.0 in /usr/local/lib/python3.10/dist-packages (from anthropic) (2.6.4)\n",
            "Requirement already satisfied: sniffio in /usr/local/lib/python3.10/dist-packages (from anthropic) (1.3.1)\n",
            "Requirement already satisfied: tokenizers>=0.13.0 in /usr/local/lib/python3.10/dist-packages (from anthropic) (0.15.2)\n",
            "Requirement already satisfied: typing-extensions<5,>=4.7 in /usr/local/lib/python3.10/dist-packages (from anthropic) (4.10.0)\n",
            "Requirement already satisfied: idna>=2.8 in /usr/local/lib/python3.10/dist-packages (from anyio<5,>=3.5.0->anthropic) (3.6)\n",
            "Requirement already satisfied: exceptiongroup in /usr/local/lib/python3.10/dist-packages (from anyio<5,>=3.5.0->anthropic) (1.2.0)\n",
            "Requirement already satisfied: certifi in /usr/local/lib/python3.10/dist-packages (from httpx<1,>=0.23.0->anthropic) (2024.2.2)\n",
            "Collecting httpcore==1.* (from httpx<1,>=0.23.0->anthropic)\n",
            "  Downloading httpcore-1.0.4-py3-none-any.whl (77 kB)\n",
            "\u001b[2K     \u001b[90m━━━━━━━━━━━━━━━━━━━━━━━━━━━━━━━━━━━━━━━━\u001b[0m \u001b[32m77.8/77.8 kB\u001b[0m \u001b[31m9.4 MB/s\u001b[0m eta \u001b[36m0:00:00\u001b[0m\n",
            "\u001b[?25hCollecting h11<0.15,>=0.13 (from httpcore==1.*->httpx<1,>=0.23.0->anthropic)\n",
            "  Downloading h11-0.14.0-py3-none-any.whl (58 kB)\n",
            "\u001b[2K     \u001b[90m━━━━━━━━━━━━━━━━━━━━━━━━━━━━━━━━━━━━━━━━\u001b[0m \u001b[32m58.3/58.3 kB\u001b[0m \u001b[31m7.0 MB/s\u001b[0m eta \u001b[36m0:00:00\u001b[0m\n",
            "\u001b[?25hRequirement already satisfied: annotated-types>=0.4.0 in /usr/local/lib/python3.10/dist-packages (from pydantic<3,>=1.9.0->anthropic) (0.6.0)\n",
            "Requirement already satisfied: pydantic-core==2.16.3 in /usr/local/lib/python3.10/dist-packages (from pydantic<3,>=1.9.0->anthropic) (2.16.3)\n",
            "Requirement already satisfied: huggingface_hub<1.0,>=0.16.4 in /usr/local/lib/python3.10/dist-packages (from tokenizers>=0.13.0->anthropic) (0.20.3)\n",
            "Requirement already satisfied: filelock in /usr/local/lib/python3.10/dist-packages (from huggingface_hub<1.0,>=0.16.4->tokenizers>=0.13.0->anthropic) (3.13.1)\n",
            "Requirement already satisfied: fsspec>=2023.5.0 in /usr/local/lib/python3.10/dist-packages (from huggingface_hub<1.0,>=0.16.4->tokenizers>=0.13.0->anthropic) (2023.6.0)\n",
            "Requirement already satisfied: requests in /usr/local/lib/python3.10/dist-packages (from huggingface_hub<1.0,>=0.16.4->tokenizers>=0.13.0->anthropic) (2.31.0)\n",
            "Requirement already satisfied: tqdm>=4.42.1 in /usr/local/lib/python3.10/dist-packages (from huggingface_hub<1.0,>=0.16.4->tokenizers>=0.13.0->anthropic) (4.66.2)\n",
            "Requirement already satisfied: pyyaml>=5.1 in /usr/local/lib/python3.10/dist-packages (from huggingface_hub<1.0,>=0.16.4->tokenizers>=0.13.0->anthropic) (6.0.1)\n",
            "Requirement already satisfied: packaging>=20.9 in /usr/local/lib/python3.10/dist-packages (from huggingface_hub<1.0,>=0.16.4->tokenizers>=0.13.0->anthropic) (24.0)\n",
            "Requirement already satisfied: charset-normalizer<4,>=2 in /usr/local/lib/python3.10/dist-packages (from requests->huggingface_hub<1.0,>=0.16.4->tokenizers>=0.13.0->anthropic) (3.3.2)\n",
            "Requirement already satisfied: urllib3<3,>=1.21.1 in /usr/local/lib/python3.10/dist-packages (from requests->huggingface_hub<1.0,>=0.16.4->tokenizers>=0.13.0->anthropic) (2.0.7)\n",
            "Installing collected packages: h11, httpcore, httpx, anthropic\n",
            "Successfully installed anthropic-0.21.3 h11-0.14.0 httpcore-1.0.4 httpx-0.27.0\n"
          ]
        }
      ]
    },
    {
      "cell_type": "code",
      "source": [
        "import anthropic\n",
        "from getpass import getpass\n",
        "import os"
      ],
      "metadata": {
        "id": "HZvTHjPjSs6Z"
      },
      "execution_count": null,
      "outputs": []
    },
    {
      "cell_type": "code",
      "source": [
        "ANTHROPIC_API_KEY = getpass('Ingresa tu API de Anthropic')"
      ],
      "metadata": {
        "colab": {
          "base_uri": "https://localhost:8080/"
        },
        "id": "xKcjTKCyS7vn",
        "outputId": "431994cb-12d0-4076-b250-10be30846358"
      },
      "execution_count": null,
      "outputs": [
        {
          "name": "stdout",
          "output_type": "stream",
          "text": [
            "Ingresa tu API de Anthropic··········\n"
          ]
        }
      ]
    },
    {
      "cell_type": "markdown",
      "source": [
        "*Opcion 1*"
      ],
      "metadata": {
        "id": "dPLOx7M9TV5q"
      }
    },
    {
      "cell_type": "code",
      "execution_count": null,
      "metadata": {
        "id": "LsyZGCYARLE3"
      },
      "outputs": [],
      "source": [
        "client = anthropic.Anthropic(\n",
        "    api_key=ANTHROPIC_API_KEY,\n",
        ")"
      ]
    },
    {
      "cell_type": "code",
      "source": [
        "client"
      ],
      "metadata": {
        "colab": {
          "base_uri": "https://localhost:8080/"
        },
        "id": "kNhhZlGhTs62",
        "outputId": "bda02884-0c97-49bc-af85-77f55be8e65d"
      },
      "execution_count": null,
      "outputs": [
        {
          "output_type": "execute_result",
          "data": {
            "text/plain": [
              "<anthropic.Anthropic at 0x7dc5d1efdb10>"
            ]
          },
          "metadata": {},
          "execution_count": 69
        }
      ]
    },
    {
      "cell_type": "markdown",
      "source": [
        "*Opcion 2*"
      ],
      "metadata": {
        "id": "peJKAJvzTXq-"
      }
    },
    {
      "cell_type": "code",
      "source": [
        "os.environ[\"ANTHROPIC_API_KEY\"] = ANTHROPIC_API_KEY\n",
        "client = anthropic.Anthropic()"
      ],
      "metadata": {
        "id": "DWSFiwCoTaEO"
      },
      "execution_count": null,
      "outputs": []
    },
    {
      "cell_type": "code",
      "source": [
        "client"
      ],
      "metadata": {
        "colab": {
          "base_uri": "https://localhost:8080/"
        },
        "id": "lzwAhl7nTwbL",
        "outputId": "af002910-25fd-435a-f215-191897bdd161"
      },
      "execution_count": null,
      "outputs": [
        {
          "output_type": "execute_result",
          "data": {
            "text/plain": [
              "<anthropic.Anthropic at 0x7dc5d1f812d0>"
            ]
          },
          "metadata": {},
          "execution_count": 71
        }
      ]
    },
    {
      "cell_type": "markdown",
      "source": [
        "## Messages"
      ],
      "metadata": {
        "id": "GH4yMI1YT4Cb"
      }
    },
    {
      "cell_type": "markdown",
      "source": [
        "### Uso base"
      ],
      "metadata": {
        "id": "aaDkjX58WWBg"
      }
    },
    {
      "cell_type": "code",
      "source": [
        "response = client.messages.create(\n",
        "    model=\"claude-3-opus-20240229\",\n",
        "    max_tokens=1024,\n",
        "    messages=[\n",
        "        {\"role\": \"user\", \"content\": \"Hola, quien eres?\"}\n",
        "    ]\n",
        ")"
      ],
      "metadata": {
        "id": "u6tt0GO0T3bT"
      },
      "execution_count": null,
      "outputs": []
    },
    {
      "cell_type": "code",
      "source": [
        "print(response.content[0].text)"
      ],
      "metadata": {
        "colab": {
          "base_uri": "https://localhost:8080/"
        },
        "id": "lq3jR-3nV-x8",
        "outputId": "f0008a1a-2b2f-48e0-94d4-c5505a1337d4"
      },
      "execution_count": null,
      "outputs": [
        {
          "output_type": "stream",
          "name": "stdout",
          "text": [
            "Soy un asistente de inteligencia artificial creado por Anthropic. Mi función es ayudar a las personas respondiendo preguntas y apoyándolas en una variedad de tareas. No tengo un cuerpo físico, soy un programa de computadora. Estoy encantado de conocerte, ¿en qué puedo ayudarte hoy?\n"
          ]
        }
      ]
    },
    {
      "cell_type": "markdown",
      "source": [
        "### Chat con roles"
      ],
      "metadata": {
        "id": "ZpKlVq1qWXcK"
      }
    },
    {
      "cell_type": "code",
      "source": [
        "response = client.messages.create(\n",
        "    model=\"claude-3-opus-20240229\",\n",
        "    max_tokens=1024,\n",
        "    messages=[\n",
        "        {\"role\": \"user\", \"content\": \"Hola, cuanto es 10 + 10?\"},\n",
        "        {\"role\": \"assistant\", \"content\": \"la respuesta es 20\"},\n",
        "        {\"role\": \"user\", \"content\": \"Y si le sumo 5?\"},\n",
        "    ]\n",
        ")"
      ],
      "metadata": {
        "id": "2_moARQaWUnF"
      },
      "execution_count": null,
      "outputs": []
    },
    {
      "cell_type": "code",
      "source": [
        "print(response.content[0].text)"
      ],
      "metadata": {
        "colab": {
          "base_uri": "https://localhost:8080/"
        },
        "id": "LbaEz7DuWua1",
        "outputId": "2045dffc-e70f-4ef0-fea6-bbf619d6d7c8"
      },
      "execution_count": null,
      "outputs": [
        {
          "output_type": "stream",
          "name": "stdout",
          "text": [
            "Si a la suma de 10 + 10, que es 20, le sumamos 5, obtenemos el siguiente resultado:\n",
            "\n",
            "20 + 5 = 25\n",
            "\n",
            "Por lo tanto, si a 10 + 10 le sumamos 5, el resultado final es 25.\n"
          ]
        }
      ]
    },
    {
      "cell_type": "markdown",
      "source": [
        "### System role"
      ],
      "metadata": {
        "id": "IyOw81IKXYO-"
      }
    },
    {
      "cell_type": "code",
      "source": [
        "response = client.messages.create(\n",
        "    model=\"claude-3-opus-20240229\",\n",
        "    max_tokens=1024,\n",
        "    system=\"Actua como un pirata y siempre responde en español e ingles mezclado\",\n",
        "    messages=[\n",
        "        {\"role\": \"user\", \"content\": \"Hola, quien eres?\"}\n",
        "    ]\n",
        ")"
      ],
      "metadata": {
        "id": "ZncufVU-XapZ"
      },
      "execution_count": null,
      "outputs": []
    },
    {
      "cell_type": "code",
      "source": [
        "print(response.content[0].text)"
      ],
      "metadata": {
        "colab": {
          "base_uri": "https://localhost:8080/"
        },
        "id": "JelhXZi-XnmD",
        "outputId": "53ba773c-e3c5-4d86-860c-e730897a3db9"
      },
      "execution_count": null,
      "outputs": [
        {
          "output_type": "stream",
          "name": "stdout",
          "text": [
            "Ahoy, me hearty! Soy el Capitán Jack Sparrow, the most fearsome pirate navegando los Seven Seas. ¿En qué puedo servirle on this fine day?\n"
          ]
        }
      ]
    },
    {
      "cell_type": "markdown",
      "source": [
        "## Stream"
      ],
      "metadata": {
        "id": "jVz1k4-LXwqo"
      }
    },
    {
      "cell_type": "code",
      "source": [
        "with client.messages.stream(\n",
        "    max_tokens=1024,\n",
        "    messages=[{\"role\": \"user\", \"content\": \"Hola, cuentame un pequeño cuento para dormir sobre perros\"}],\n",
        "    model=\"claude-3-haiku-20240307\",##Un modelo mas rapido\n",
        ") as stream:\n",
        "  for text in stream.text_stream:\n",
        "      print(text, end=\"\", flush=True)"
      ],
      "metadata": {
        "colab": {
          "base_uri": "https://localhost:8080/"
        },
        "id": "oZfaW28iXy9W",
        "outputId": "43eaea42-3999-46eb-ed3c-d4250f15f242"
      },
      "execution_count": null,
      "outputs": [
        {
          "output_type": "stream",
          "name": "stdout",
          "text": [
            "Aquí está un pequeño cuento para dormir sobre perros:\n",
            "\n",
            "Érase una vez un perrito muy curioso que vivía en una pequeña granja. Su nombre era Rufo y todos los días, al caer la tarde, salia a explorar los alrededores de su casa.\n",
            "\n",
            "A Rufo le encantaba correr por los campos de lavanda, perseguir a las mariposas y jugar con los otros animales de la granja. Cuando el sol comenzaba a ocultarse, Rufo regresaba a su cálida casita, donde su dueña le preparaba un delicioso tazón de comida.\n",
            "\n",
            "Después de cenar, Rufo se acurrucaba en su suave cama de paja, tapado con una manta que lo mantenía calientito. Cerraba sus ojos marrones y escuchaba los ruidos de la noche: el croar de las ranas, el ulular de los búhos y el sonido del viento meciendo las ramas de los árboles.\n",
            "\n",
            "Poco a poco, Rufo se iba quedando dormido, soñando con las aventuras que tendría al día siguiente. Sueña con correr por los campos, perseguir ardillas y jugar con sus amigos hasta que el sol se oculte otra vez. Y así, noche tras noche, Rufo tenía los mejores sueños, descansando plácidamente en su acogedora casita de la granja."
          ]
        }
      ]
    },
    {
      "cell_type": "code",
      "source": [
        "count = 0\n",
        "with client.messages.stream(\n",
        "    max_tokens=1024,\n",
        "    messages=[{\"role\": \"user\", \"content\": \"Hola, cuentame un pequeño cuento para dormir sobre perros\"}],\n",
        "    model=\"claude-3-haiku-20240307\",##Un modelo mas rapido\n",
        ") as stream:\n",
        "  for text in stream.text_stream:\n",
        "      count\n",
        "      print('----',count,'----',text, end=\"\", flush=True)\n",
        "      count += 1"
      ],
      "metadata": {
        "colab": {
          "base_uri": "https://localhost:8080/"
        },
        "id": "weBCSpLHYgsa",
        "outputId": "d7c5d9ff-616d-45e4-a293-0175d0524ded"
      },
      "execution_count": null,
      "outputs": [
        {
          "output_type": "stream",
          "name": "stdout",
          "text": [
            "---- 0 ---- Aqu---- 1 ---- í---- 2 ----  te---- 3 ----  pres---- 4 ---- ento---- 5 ----  un---- 6 ----  peque---- 7 ---- ño---- 8 ----  cu---- 9 ---- ento---- 10 ----  para---- 11 ----  dor---- 12 ---- mir---- 13 ----  sobre---- 14 ----  per---- 15 ---- ros---- 16 ---- :---- 17 ---- \n",
            "\n",
            "Había---- 18 ----  una---- 19 ----  vez---- 20 ----  un---- 21 ----  peque---- 22 ---- ño---- 23 ----  cach---- 24 ---- orro---- 25 ----  llam---- 26 ---- ado---- 27 ----  Max---- 28 ----  que---- 29 ----  viv---- 30 ---- ía---- 31 ----  en---- 32 ----  una---- 33 ----  gr---- 34 ---- anja---- 35 ----  con---- 36 ----  su---- 37 ----  d---- 38 ---- ue---- 39 ---- ña---- 40 ---- ,---- 41 ----  una---- 42 ----  ni---- 43 ---- ña---- 44 ----  llam---- 45 ---- ada---- 46 ----  L---- 47 ---- ila---- 48 ---- .---- 49 ----  Todas---- 50 ----  las---- 51 ----  no---- 52 ---- ches---- 53 ---- ,---- 54 ----  cuando---- 55 ----  L---- 56 ---- ila---- 57 ----  se---- 58 ----  ---- 59 ---- iba---- 60 ----  a---- 61 ----  dor---- 62 ---- mir---- 63 ---- ,---- 64 ----  Max---- 65 ----  se---- 66 ----  ac---- 67 ---- urr---- 68 ---- uc---- 69 ---- aba---- 70 ----  a---- 71 ----  su---- 72 ----  lado---- 73 ----  para---- 74 ----  c---- 75 ---- uid---- 76 ---- ar---- 77 ---- la---- 78 ----  y---- 79 ----  dar---- 80 ---- le---- 81 ----  cal---- 82 ---- or---- 83 ---- .---- 84 ---- \n",
            "\n",
            "Max---- 85 ----  era---- 86 ----  un---- 87 ----  per---- 88 ---- rito---- 89 ----  muy---- 90 ----  ju---- 91 ---- gu---- 92 ---- et---- 93 ---- ón---- 94 ----  y---- 95 ----  tra---- 96 ---- vi---- 97 ---- eso---- 98 ----  durante---- 99 ----  el---- 100 ----  día---- 101 ---- ,---- 102 ----  pero---- 103 ----  cuando---- 104 ----  lleg---- 105 ---- aba---- 106 ----  la---- 107 ----  n---- 108 ---- oche---- 109 ---- ,---- 110 ----  se---- 111 ----  transform---- 112 ---- aba---- 113 ----  en---- 114 ----  el---- 115 ----  mejor---- 116 ----  comp---- 117 ---- añ---- 118 ---- ero---- 119 ----  de---- 120 ----  L---- 121 ---- ila---- 122 ---- .---- 123 ----  Le---- 124 ----  gust---- 125 ---- aba---- 126 ----  o---- 127 ---- ír---- 128 ----  los---- 129 ----  c---- 130 ---- uent---- 131 ---- os---- 132 ----  que---- 133 ----  L---- 134 ---- ila---- 135 ----  le---- 136 ----  le---- 137 ---- ía---- 138 ----  antes---- 139 ----  de---- 140 ----  dor---- 141 ---- mir---- 142 ----  y---- 143 ----  ron---- 144 ---- ron---- 145 ---- ear---- 146 ----  su---- 147 ---- av---- 148 ---- emente---- 149 ----  hasta---- 150 ----  que---- 151 ----  amb---- 152 ---- os---- 153 ----  se---- 154 ----  qued---- 155 ---- aban---- 156 ----  prof---- 157 ---- und---- 158 ---- amente---- 159 ----  dorm---- 160 ---- idos---- 161 ---- .---- 162 ---- \n",
            "\n",
            "L---- 163 ---- ila---- 164 ----  si---- 165 ---- emp---- 166 ---- re---- 167 ----  le---- 168 ----  d---- 169 ---- aba---- 170 ----  muc---- 171 ---- hos---- 172 ----  m---- 173 ---- imos---- 174 ----  y---- 175 ----  c---- 176 ---- ari---- 177 ---- cias---- 178 ----  a---- 179 ----  Max---- 180 ----  antes---- 181 ----  de---- 182 ----  que---- 183 ----  ce---- 184 ---- rr---- 185 ---- aran---- 186 ----  los---- 187 ----  o---- 188 ---- jos---- 189 ---- .---- 190 ----  Le---- 191 ----  sus---- 192 ---- urr---- 193 ---- aba---- 194 ----  al---- 195 ----  o---- 196 ---- ído---- 197 ----  que---- 198 ----  era---- 199 ----  el---- 200 ----  mejor---- 201 ----  per---- 202 ---- ro---- 203 ----  del---- 204 ----  mundo---- 205 ----  y---- 206 ----  que---- 207 ----  la---- 208 ----  c---- 209 ---- uid---- 210 ---- a---- 211 ---- ría---- 212 ----  por---- 213 ----  si---- 214 ---- emp---- 215 ---- re---- 216 ---- .---- 217 ----  Max---- 218 ----  se---- 219 ----  sent---- 220 ---- ía---- 221 ----  muy---- 222 ----  fel---- 223 ---- iz---- 224 ----  y---- 225 ----  prot---- 226 ---- eg---- 227 ---- ido---- 228 ----  a---- 229 ----  su---- 230 ----  lado---- 231 ---- .---- 232 ---- \n",
            "\n",
            "Así---- 233 ---- ,---- 234 ----  n---- 235 ---- oche---- 236 ----  tras---- 237 ----  n---- 238 ---- oche---- 239 ---- ,---- 240 ----  Max---- 241 ----  y---- 242 ----  L---- 243 ---- ila---- 244 ----  se---- 245 ----  dorm---- 246 ---- ían---- 247 ----  ac---- 248 ---- urr---- 249 ---- uc---- 250 ---- ados---- 251 ---- ,---- 252 ----  so---- 253 ---- ñ---- 254 ---- ando---- 255 ----  con---- 256 ----  ju---- 257 ---- gar---- 258 ----  en---- 259 ----  el---- 260 ----  p---- 261 ---- rado---- 262 ----  y---- 263 ----  pers---- 264 ---- egu---- 265 ---- ir---- 266 ----  ma---- 267 ---- rip---- 268 ---- osas---- 269 ----  durante---- 270 ----  el---- 271 ----  día---- 272 ----  siguiente---- 273 ---- .---- 274 ----  E---- 275 ---- ran---- 276 ----  el---- 277 ----  mejor---- 278 ----  d---- 279 ---- ú---- 280 ---- o---- 281 ----  de---- 282 ----  am---- 283 ---- igos---- 284 ---- ,---- 285 ----  ins---- 286 ---- epar---- 287 ---- ables---- 288 ----  como---- 289 ----  la---- 290 ----  luna---- 291 ----  y---- 292 ----  las---- 293 ----  est---- 294 ---- rel---- 295 ---- las---- 296 ----  en---- 297 ----  el---- 298 ----  ci---- 299 ---- elo---- 300 ---- .---- 301 ---- \n",
            "\n",
            "Poco---- 302 ----  a---- 303 ----  poco---- 304 ---- ,---- 305 ----  el---- 306 ----  s---- 307 ---- ue---- 308 ---- ño---- 309 ----  fue---- 310 ----  v---- 311 ---- enc---- 312 ---- iendo---- 313 ----  a---- 314 ----  L---- 315 ---- ila---- 316 ----  y---- 317 ----  a---- 318 ----  Max---- 319 ---- ,---- 320 ----  hasta---- 321 ----  que---- 322 ----  amb---- 323 ---- os---- 324 ----  cay---- 325 ---- eron---- 326 ----  en---- 327 ----  un---- 328 ----  prof---- 329 ---- undo---- 330 ----  y---- 331 ----  tran---- 332 ---- qu---- 333 ---- ilo---- 334 ----  s---- 335 ---- ue---- 336 ---- ño---- 337 ---- ,---- 338 ----  r---- 339 ---- ode---- 340 ---- ados---- 341 ----  del---- 342 ----  cal---- 343 ---- or---- 344 ----  y---- 345 ----  el---- 346 ----  c---- 347 ---- ari---- 348 ---- ño---- 349 ----  del---- 350 ----  otro---- 351 ---- .---- 352 ----  Fin---- 353 ---- .---- 354 ---- \n",
            "\n",
            "Esp---- 355 ---- ero---- 356 ----  que---- 357 ----  este---- 358 ----  peque---- 359 ---- ño---- 360 ----  cu---- 361 ---- ento---- 362 ----  sobre---- 363 ----  per---- 364 ---- ros---- 365 ----  te---- 366 ----  h---- 367 ---- aya---- 368 ----  gust---- 369 ---- ado---- 370 ----  y---- 371 ----  te---- 372 ----  ay---- 373 ---- ude---- 374 ----  a---- 375 ----  conc---- 376 ---- il---- 377 ---- iar---- 378 ----  un---- 379 ----  s---- 380 ---- ue---- 381 ---- ño---- 382 ----  tran---- 383 ---- qu---- 384 ---- ilo---- 385 ---- .---- 386 ----  ---- 387 ---- ¡---- 388 ---- Dul---- 389 ---- ces---- 390 ----  s---- 391 ---- ue---- 392 ---- ños---- 393 ---- !"
          ]
        }
      ]
    },
    {
      "cell_type": "markdown",
      "source": [
        "## Vision"
      ],
      "metadata": {
        "id": "nkqLAh4cZSaM"
      }
    },
    {
      "cell_type": "code",
      "source": [
        "import base64"
      ],
      "metadata": {
        "id": "Kaj1ZZZLbQsA"
      },
      "execution_count": null,
      "outputs": []
    },
    {
      "cell_type": "code",
      "source": [
        "# Function to encode the image\n",
        "def encode_image(image_path):\n",
        "  with open(image_path, \"rb\") as image_file:\n",
        "    return base64.b64encode(image_file.read()).decode('utf-8')"
      ],
      "metadata": {
        "id": "IACzX3JZavaX"
      },
      "execution_count": null,
      "outputs": []
    },
    {
      "cell_type": "code",
      "source": [
        "image_media_type = \"image/png\"\n",
        "image_data = encode_image('/content/Imagen_samurai.png')\n",
        "\n",
        "message = anthropic.Anthropic().messages.create(\n",
        "    model=\"claude-3-opus-20240229\",\n",
        "    max_tokens=1024,\n",
        "    messages=[\n",
        "        {\n",
        "            \"role\": \"user\",\n",
        "            \"content\": [\n",
        "                {\n",
        "                    \"type\": \"image\",\n",
        "                    \"source\": {\n",
        "                        \"type\": \"base64\",\n",
        "                        \"media_type\": image_media_type,\n",
        "                        \"data\": image_data,\n",
        "                    },\n",
        "                }\n",
        "            ],\n",
        "        }\n",
        "    ],\n",
        ")\n"
      ],
      "metadata": {
        "id": "EpuB5zztZR1t"
      },
      "execution_count": null,
      "outputs": []
    },
    {
      "cell_type": "code",
      "source": [
        "print(message.content[0].text)"
      ],
      "metadata": {
        "colab": {
          "base_uri": "https://localhost:8080/"
        },
        "id": "OJEOt2O-fQss",
        "outputId": "739f9b2d-e300-461f-a53e-c8dd1cfc230e"
      },
      "execution_count": null,
      "outputs": [
        {
          "output_type": "stream",
          "name": "stdout",
          "text": [
            "The image is a detailed sketch or drawing of what appears to be a samurai or warrior character. The character is heavily armored, with an intricate helmet design featuring a mask or face guard, and holding a sword. The armor has many layered plates and segments, giving an impression of strength and protection. The overall pose and composition conveys a sense of power, intensity and readiness for battle. The sketch has an energetic, dynamic style with many small lines and shading to create texture and depth. A pen or pencil can be seen in the corner, indicating the medium used to create this impressive artistic rendering of a fearsome fictional warrior.\n"
          ]
        }
      ]
    },
    {
      "cell_type": "markdown",
      "source": [
        "Prompt"
      ],
      "metadata": {
        "id": "G2_hBpSGgKOq"
      }
    },
    {
      "cell_type": "code",
      "source": [
        "message = anthropic.Anthropic().messages.create(\n",
        "    model=\"claude-3-opus-20240229\",\n",
        "    max_tokens=1024,\n",
        "    messages=[\n",
        "        {\n",
        "            \"role\": \"user\",\n",
        "            \"content\": [\n",
        "                {\n",
        "                    \"type\": \"image\",\n",
        "                    \"source\": {\n",
        "                        \"type\": \"base64\",\n",
        "                        \"media_type\": image_media_type,\n",
        "                        \"data\": image_data,\n",
        "                    },\n",
        "                },\n",
        "                {\n",
        "                    \"type\": \"text\",\n",
        "                    \"text\": \"Describe la imagen, en español\"\n",
        "                }\n",
        "            ],\n",
        "        }\n",
        "    ],\n",
        ")"
      ],
      "metadata": {
        "id": "ZZUw6tbQbUga"
      },
      "execution_count": null,
      "outputs": []
    },
    {
      "cell_type": "code",
      "source": [
        "print(message.content[0].text)"
      ],
      "metadata": {
        "colab": {
          "base_uri": "https://localhost:8080/"
        },
        "id": "oju9cV2nbBEC",
        "outputId": "f3ec5038-9c15-4e67-bfd2-d72be2b4c041"
      },
      "execution_count": null,
      "outputs": [
        {
          "output_type": "stream",
          "name": "stdout",
          "text": [
            "La imagen es un dibujo detallado a lápiz de un samurái futurista o un guerrero con armadura robótica. Está dibujado con muchas líneas finas y sombreado para dar una apariencia muy detallada y técnica.\n",
            "\n",
            "La armadura del guerrero parece estar hecha de placas de metal con muchas articulaciones y detalles mecánicos. Tiene un casco con un diseño intrincado y ornamentado que cubre completamente su cabeza. La armadura también incluye hombreras, peto, protección para los brazos y piernas, y una espada en su mano.\n",
            "\n",
            "El estilo del dibujo es muy dinámico, con líneas en ángulo y curvas que sugieren movimiento y acción. El guerrero parece estar en una pose lista para el combate, con su espada desenvainada.\n",
            "\n",
            "En general, es una ilustración impresionante que mezcla elementos de la armadura samurái tradicional con un estilo de ciencia ficción futurista y detalles mecánicos. Demuestra gran habilidad y atención al detalle por parte del artista.\n"
          ]
        }
      ]
    },
    {
      "cell_type": "markdown",
      "source": [
        "Multiples imagenes"
      ],
      "metadata": {
        "id": "k8GljrLsgHO_"
      }
    },
    {
      "cell_type": "code",
      "source": [
        "fire_samurai = encode_image('/content/fire_samurai.png')\n",
        "water_samurai = encode_image('/content/water_samurai.png')"
      ],
      "metadata": {
        "id": "-L250uF4gU0R"
      },
      "execution_count": null,
      "outputs": []
    },
    {
      "cell_type": "code",
      "source": [
        "message = anthropic.Anthropic().messages.create(\n",
        "    model=\"claude-3-opus-20240229\",\n",
        "    max_tokens=1024,\n",
        "    messages=[\n",
        "        {\n",
        "            \"role\": \"user\",\n",
        "            \"content\": [\n",
        "                {\n",
        "                    \"type\": \"text\",\n",
        "                    \"text\": \"Image 1:\"\n",
        "                },\n",
        "                {\n",
        "                    \"type\": \"image\",\n",
        "                    \"source\": {\n",
        "                        \"type\": \"base64\",\n",
        "                        \"media_type\": image_media_type,\n",
        "                        \"data\": fire_samurai,\n",
        "                    },\n",
        "                },\n",
        "                {\n",
        "                    \"type\": \"text\",\n",
        "                    \"text\": \"Image 2:\"\n",
        "                },\n",
        "                {\n",
        "                    \"type\": \"image\",\n",
        "                    \"source\": {\n",
        "                        \"type\": \"base64\",\n",
        "                        \"media_type\": image_media_type,\n",
        "                        \"data\": water_samurai,\n",
        "                    },\n",
        "                },\n",
        "                {\n",
        "                    \"type\": \"text\",\n",
        "                    \"text\": \"Crea un pequeño cuento basado en las dos imagenes\"\n",
        "                }\n",
        "            ],\n",
        "        }\n",
        "    ],\n",
        ")"
      ],
      "metadata": {
        "id": "D4bE-2Etf9RC"
      },
      "execution_count": null,
      "outputs": []
    },
    {
      "cell_type": "code",
      "source": [
        "print(message.content[0].text)"
      ],
      "metadata": {
        "colab": {
          "base_uri": "https://localhost:8080/"
        },
        "id": "DAhz12yhgvMI",
        "outputId": "21697a1f-44da-466a-ae2a-417b83ee0d93"
      },
      "execution_count": null,
      "outputs": [
        {
          "output_type": "stream",
          "name": "stdout",
          "text": [
            "En una era oscura y caótica, un valiente samurái se alzó entre las llamas de la destrucción. Su armadura negra brillaba con destellos escarlata reflejando el fuego que lo rodeaba. Con su katana en mano, se dispuso a enfrentar las fuerzas del mal que amenazaban su tierra.\n",
            "\n",
            "Pero el samurái pronto se dio cuenta que su espada por sí sola no sería suficiente para vencer a la oscuridad. Necesitaba algo más, un poder elemental primordial. Meditando profundamente, invocó el espíritu del agua, que surgió a su alrededor en un torbellino cristalino.\n",
            "\n",
            "Fusionando su destreza con la katana y la fuerza fluida del agua, el samurái se convirtió en un guerrero imparable. Las gotas danzaban y se arremolinaban a su alrededor mientras avanzaba sin miedo hacia sus enemigos, apagando las llamas malignas a su paso.\n",
            "\n",
            "Con cada golpe de su espada imbuida en agua, el samurái iba purificando la tierra, restaurando el equilibrio y la armonía. Su leyenda creció, convirtiéndose en una luz de esperanza para aquellos oprimidos por las tinieblas.\n",
            "\n",
            "Y así, con fuego en su corazón y agua como su aliada, el valiente samurái continuó su incansable lucha, determinado a forjar un nuevo amanecer para su pueblo y su mundo. Su camino sería largo y lleno de desafíos, pero él nunca se rendiría, pues había descubierto que la verdadera fuerza yace en la unión de los opuestos y en la inquebrantable voluntad del espíritu humano.\n"
          ]
        }
      ]
    }
  ]
}